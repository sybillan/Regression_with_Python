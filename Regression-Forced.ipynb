{
 "cells": [
  {
   "cell_type": "code",
   "execution_count": 65,
   "metadata": {},
   "outputs": [],
   "source": [
    "import numpy as np"
   ]
  },
  {
   "cell_type": "code",
   "execution_count": 66,
   "metadata": {},
   "outputs": [],
   "source": [
    "from sklearn.linear_model import LinearRegression"
   ]
  },
  {
   "cell_type": "code",
   "execution_count": 67,
   "metadata": {},
   "outputs": [],
   "source": [
    "z=np.random.normal(0,1,10)*100\n",
    "z=z.reshape(-1,1)"
   ]
  },
  {
   "cell_type": "code",
   "execution_count": 68,
   "metadata": {},
   "outputs": [],
   "source": [
    "a=z*2\n",
    "a=a.reshape(-1,1)"
   ]
  },
  {
   "cell_type": "code",
   "execution_count": 69,
   "metadata": {},
   "outputs": [
    {
     "name": "stdout",
     "output_type": "stream",
     "text": [
      "[[-137.39912975]\n",
      " [  -7.3693145 ]\n",
      " [  37.0642941 ]\n",
      " [  34.91723494]\n",
      " [  15.14843662]\n",
      " [ -99.82581613]\n",
      " [ -92.29114162]\n",
      " [ -66.61818728]\n",
      " [  85.87398073]\n",
      " [-136.74792349]]\n",
      "[[-274.79825951]\n",
      " [ -14.73862901]\n",
      " [  74.12858821]\n",
      " [  69.83446987]\n",
      " [  30.29687324]\n",
      " [-199.65163226]\n",
      " [-184.58228323]\n",
      " [-133.23637455]\n",
      " [ 171.74796145]\n",
      " [-273.49584697]]\n"
     ]
    }
   ],
   "source": [
    "print(z)\n",
    "print(a)"
   ]
  },
  {
   "cell_type": "code",
   "execution_count": 70,
   "metadata": {},
   "outputs": [],
   "source": [
    "model=LinearRegression()"
   ]
  },
  {
   "cell_type": "code",
   "execution_count": 71,
   "metadata": {},
   "outputs": [
    {
     "data": {
      "text/plain": [
       "LinearRegression()"
      ]
     },
     "execution_count": 71,
     "metadata": {},
     "output_type": "execute_result"
    }
   ],
   "source": [
    "model.fit(z,a)"
   ]
  },
  {
   "cell_type": "code",
   "execution_count": 72,
   "metadata": {},
   "outputs": [],
   "source": [
    "r2=model.score(z,a)"
   ]
  },
  {
   "cell_type": "code",
   "execution_count": 73,
   "metadata": {},
   "outputs": [
    {
     "name": "stdout",
     "output_type": "stream",
     "text": [
      "1.0\n"
     ]
    }
   ],
   "source": [
    "print(r2)"
   ]
  },
  {
   "cell_type": "code",
   "execution_count": 77,
   "metadata": {},
   "outputs": [
    {
     "name": "stdout",
     "output_type": "stream",
     "text": [
      "[-1.42108547e-14]\n",
      "[[2.]]\n"
     ]
    }
   ],
   "source": [
    "print(model.intercept_)\n",
    "print(model.coef_)"
   ]
  },
  {
   "cell_type": "code",
   "execution_count": 76,
   "metadata": {},
   "outputs": [
    {
     "name": "stdout",
     "output_type": "stream",
     "text": [
      "                            OLS Regression Results                            \n",
      "==============================================================================\n",
      "Dep. Variable:                      y   R-squared:                       1.000\n",
      "Model:                            OLS   Adj. R-squared:                  1.000\n",
      "Method:                 Least Squares   F-statistic:                 1.474e+32\n",
      "Date:                Thu, 18 Feb 2021   Prob (F-statistic):          2.37e-126\n",
      "Time:                        21:40:21   Log-Likelihood:                 295.57\n",
      "No. Observations:                  10   AIC:                            -587.1\n",
      "Df Residuals:                       8   BIC:                            -586.5\n",
      "Df Model:                           1                                         \n",
      "Covariance Type:            nonrobust                                         \n",
      "==============================================================================\n",
      "                 coef    std err          t      P>|t|      [0.025      0.975]\n",
      "------------------------------------------------------------------------------\n",
      "const      -7.105e-15   1.39e-14     -0.513      0.622   -3.91e-14    2.48e-14\n",
      "x1             2.0000   1.65e-16   1.21e+16      0.000       2.000       2.000\n",
      "==============================================================================\n",
      "Omnibus:                        1.282   Durbin-Watson:                   1.407\n",
      "Prob(Omnibus):                  0.527   Jarque-Bera (JB):                0.692\n",
      "Skew:                          -0.029   Prob(JB):                        0.708\n",
      "Kurtosis:                       1.713   Cond. No.                         93.5\n",
      "==============================================================================\n",
      "\n",
      "Notes:\n",
      "[1] Standard Errors assume that the covariance matrix of the errors is correctly specified.\n"
     ]
    },
    {
     "name": "stderr",
     "output_type": "stream",
     "text": [
      "C:\\Users\\aarth\\anaconda3\\lib\\site-packages\\scipy\\stats\\stats.py:1603: UserWarning: kurtosistest only valid for n>=20 ... continuing anyway, n=10\n",
      "  warnings.warn(\"kurtosistest only valid for n>=20 ... continuing \"\n"
     ]
    }
   ],
   "source": [
    "\n",
    "import statsmodels.api as sm\n",
    "z = sm.add_constant(z)\n",
    "model1 = sm.OLS(a, z)\n",
    "results = model1.fit()\n",
    "print(results.summary())"
   ]
  },
  {
   "cell_type": "code",
   "execution_count": null,
   "metadata": {},
   "outputs": [],
   "source": [
    "RSS = e1^2 + e2^2+ ··· + en^2\n",
    "yˆ = βˆ0 + βˆ1x"
   ]
  }
 ],
 "metadata": {
  "kernelspec": {
   "display_name": "Python 3",
   "language": "python",
   "name": "python3"
  },
  "language_info": {
   "codemirror_mode": {
    "name": "ipython",
    "version": 3
   },
   "file_extension": ".py",
   "mimetype": "text/x-python",
   "name": "python",
   "nbconvert_exporter": "python",
   "pygments_lexer": "ipython3",
   "version": "3.8.5"
  }
 },
 "nbformat": 4,
 "nbformat_minor": 4
}
