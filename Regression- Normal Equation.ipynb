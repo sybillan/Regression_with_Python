{
 "cells": [
  {
   "cell_type": "code",
   "execution_count": 2,
   "metadata": {},
   "outputs": [],
   "source": [
    "import numpy as np\n"
   ]
  },
  {
   "cell_type": "code",
   "execution_count": 3,
   "metadata": {},
   "outputs": [],
   "source": [
    "X=2* np.random.rand(100,1)"
   ]
  },
  {
   "cell_type": "code",
   "execution_count": 4,
   "metadata": {},
   "outputs": [
    {
     "data": {
      "text/plain": [
       "array([[1.70107592],\n",
       "       [1.43444409],\n",
       "       [1.41707604],\n",
       "       [0.70757748],\n",
       "       [1.70164549],\n",
       "       [1.45550172],\n",
       "       [1.34595439],\n",
       "       [0.37938281],\n",
       "       [1.20985943],\n",
       "       [0.94420415],\n",
       "       [0.87514514],\n",
       "       [0.70919603],\n",
       "       [0.67474589],\n",
       "       [0.28256895],\n",
       "       [0.98842798],\n",
       "       [1.28697181],\n",
       "       [1.16738898],\n",
       "       [1.40777554],\n",
       "       [1.20923816],\n",
       "       [1.81372512],\n",
       "       [1.94667485],\n",
       "       [0.50423516],\n",
       "       [1.28534752],\n",
       "       [0.35230641],\n",
       "       [1.00044399],\n",
       "       [1.56757077],\n",
       "       [1.47555001],\n",
       "       [0.47964653],\n",
       "       [0.35551064],\n",
       "       [0.55199342],\n",
       "       [0.59761576],\n",
       "       [1.83774719],\n",
       "       [1.82222412],\n",
       "       [0.5937773 ],\n",
       "       [0.07842033],\n",
       "       [0.89737145],\n",
       "       [0.3444031 ],\n",
       "       [1.7093154 ],\n",
       "       [0.39305872],\n",
       "       [1.77220338],\n",
       "       [1.81692949],\n",
       "       [1.10671536],\n",
       "       [0.99712191],\n",
       "       [1.28631848],\n",
       "       [1.22787451],\n",
       "       [0.00677646],\n",
       "       [1.64955374],\n",
       "       [0.24954488],\n",
       "       [0.60311313],\n",
       "       [1.3655468 ],\n",
       "       [0.61085307],\n",
       "       [0.28384769],\n",
       "       [0.69473697],\n",
       "       [1.79765826],\n",
       "       [1.3571233 ],\n",
       "       [0.440506  ],\n",
       "       [1.85905099],\n",
       "       [0.84201627],\n",
       "       [1.79892619],\n",
       "       [0.14882589],\n",
       "       [0.11904043],\n",
       "       [1.26047063],\n",
       "       [1.84083538],\n",
       "       [0.31952551],\n",
       "       [0.36257734],\n",
       "       [1.57178177],\n",
       "       [0.73092995],\n",
       "       [0.55688664],\n",
       "       [1.37455251],\n",
       "       [1.9506031 ],\n",
       "       [1.33131269],\n",
       "       [1.71469418],\n",
       "       [1.10606601],\n",
       "       [1.22756228],\n",
       "       [0.29702474],\n",
       "       [1.13364226],\n",
       "       [1.27116035],\n",
       "       [1.62964609],\n",
       "       [1.82757989],\n",
       "       [1.04128771],\n",
       "       [0.52812317],\n",
       "       [0.38602129],\n",
       "       [1.43285134],\n",
       "       [1.40674011],\n",
       "       [1.51731188],\n",
       "       [1.99767182],\n",
       "       [1.1112137 ],\n",
       "       [0.26274478],\n",
       "       [1.46564154],\n",
       "       [0.19067153],\n",
       "       [1.64951326],\n",
       "       [0.33349625],\n",
       "       [1.92247847],\n",
       "       [1.33267891],\n",
       "       [0.7361419 ],\n",
       "       [1.68724153],\n",
       "       [1.71469551],\n",
       "       [0.45925786],\n",
       "       [1.21728507],\n",
       "       [1.35543819]])"
      ]
     },
     "execution_count": 4,
     "metadata": {},
     "output_type": "execute_result"
    }
   ],
   "source": [
    "X"
   ]
  },
  {
   "cell_type": "code",
   "execution_count": 5,
   "metadata": {},
   "outputs": [],
   "source": [
    "y=4+3*X+np.random.randn(100,1)"
   ]
  },
  {
   "cell_type": "code",
   "execution_count": 9,
   "metadata": {},
   "outputs": [
    {
     "data": {
      "text/plain": [
       "[<matplotlib.lines.Line2D at 0x20e7ca06580>]"
      ]
     },
     "execution_count": 9,
     "metadata": {},
     "output_type": "execute_result"
    },
    {
     "data": {
      "image/png": "[encoded data removed]",
      "text/plain": [
       "<Figure size 432x288 with 1 Axes>"
      ]
     },
     "metadata": {
      "needs_background": "light"
     },
     "output_type": "display_data"
    }
   ],
   "source": [
    "from matplotlib import pyplot as plt\n",
    "plt.plot(X,y,'o')\n"
   ]
  },
  {
   "cell_type": "code",
   "execution_count": 8,
   "metadata": {},
   "outputs": [
    {
     "data": {
      "text/plain": [
       "[<matplotlib.lines.Line2D at 0x20e7c99ed90>]"
      ]
     },
     "execution_count": 8,
     "metadata": {},
     "output_type": "execute_result"
    },
    {
     "data": {
      "image/png": "[encoded data removed]",
      "text/plain": [
       "<Figure size 432x288 with 1 Axes>"
      ]
     },
     "metadata": {
      "needs_background": "light"
     },
     "output_type": "display_data"
    }
   ],
   "source": [
    "from matplotlib import pyplot as plt1\n",
    "plt1.plot(X,'o')"
   ]
  },
  {
   "cell_type": "code",
   "execution_count": 10,
   "metadata": {},
   "outputs": [],
   "source": [
    "X_b=np.c_[np.ones((100,1)),X]\n",
    "\n",
    "theta=np.linalg.inv(X_b.T.dot(X_b)).dot(X_b.T).dot(y)"
   ]
  },
  {
   "cell_type": "code",
   "execution_count": 14,
   "metadata": {},
   "outputs": [
    {
     "data": {
      "text/plain": [
       "array([[3.82685335],\n",
       "       [3.14134281]])"
      ]
     },
     "execution_count": 14,
     "metadata": {},
     "output_type": "execute_result"
    }
   ],
   "source": [
    "theta"
   ]
  },
  {
   "cell_type": "code",
   "execution_count": 13,
   "metadata": {},
   "outputs": [
    {
     "data": {
      "text/plain": [
       "array([[1.        , 1.70107592],\n",
       "       [1.        , 1.43444409],\n",
       "       [1.        , 1.41707604],\n",
       "       [1.        , 0.70757748],\n",
       "       [1.        , 1.70164549],\n",
       "       [1.        , 1.45550172],\n",
       "       [1.        , 1.34595439],\n",
       "       [1.        , 0.37938281],\n",
       "       [1.        , 1.20985943],\n",
       "       [1.        , 0.94420415],\n",
       "       [1.        , 0.87514514],\n",
       "       [1.        , 0.70919603],\n",
       "       [1.        , 0.67474589],\n",
       "       [1.        , 0.28256895],\n",
       "       [1.        , 0.98842798],\n",
       "       [1.        , 1.28697181],\n",
       "       [1.        , 1.16738898],\n",
       "       [1.        , 1.40777554],\n",
       "       [1.        , 1.20923816],\n",
       "       [1.        , 1.81372512],\n",
       "       [1.        , 1.94667485],\n",
       "       [1.        , 0.50423516],\n",
       "       [1.        , 1.28534752],\n",
       "       [1.        , 0.35230641],\n",
       "       [1.        , 1.00044399],\n",
       "       [1.        , 1.56757077],\n",
       "       [1.        , 1.47555001],\n",
       "       [1.        , 0.47964653],\n",
       "       [1.        , 0.35551064],\n",
       "       [1.        , 0.55199342],\n",
       "       [1.        , 0.59761576],\n",
       "       [1.        , 1.83774719],\n",
       "       [1.        , 1.82222412],\n",
       "       [1.        , 0.5937773 ],\n",
       "       [1.        , 0.07842033],\n",
       "       [1.        , 0.89737145],\n",
       "       [1.        , 0.3444031 ],\n",
       "       [1.        , 1.7093154 ],\n",
       "       [1.        , 0.39305872],\n",
       "       [1.        , 1.77220338],\n",
       "       [1.        , 1.81692949],\n",
       "       [1.        , 1.10671536],\n",
       "       [1.        , 0.99712191],\n",
       "       [1.        , 1.28631848],\n",
       "       [1.        , 1.22787451],\n",
       "       [1.        , 0.00677646],\n",
       "       [1.        , 1.64955374],\n",
       "       [1.        , 0.24954488],\n",
       "       [1.        , 0.60311313],\n",
       "       [1.        , 1.3655468 ],\n",
       "       [1.        , 0.61085307],\n",
       "       [1.        , 0.28384769],\n",
       "       [1.        , 0.69473697],\n",
       "       [1.        , 1.79765826],\n",
       "       [1.        , 1.3571233 ],\n",
       "       [1.        , 0.440506  ],\n",
       "       [1.        , 1.85905099],\n",
       "       [1.        , 0.84201627],\n",
       "       [1.        , 1.79892619],\n",
       "       [1.        , 0.14882589],\n",
       "       [1.        , 0.11904043],\n",
       "       [1.        , 1.26047063],\n",
       "       [1.        , 1.84083538],\n",
       "       [1.        , 0.31952551],\n",
       "       [1.        , 0.36257734],\n",
       "       [1.        , 1.57178177],\n",
       "       [1.        , 0.73092995],\n",
       "       [1.        , 0.55688664],\n",
       "       [1.        , 1.37455251],\n",
       "       [1.        , 1.9506031 ],\n",
       "       [1.        , 1.33131269],\n",
       "       [1.        , 1.71469418],\n",
       "       [1.        , 1.10606601],\n",
       "       [1.        , 1.22756228],\n",
       "       [1.        , 0.29702474],\n",
       "       [1.        , 1.13364226],\n",
       "       [1.        , 1.27116035],\n",
       "       [1.        , 1.62964609],\n",
       "       [1.        , 1.82757989],\n",
       "       [1.        , 1.04128771],\n",
       "       [1.        , 0.52812317],\n",
       "       [1.        , 0.38602129],\n",
       "       [1.        , 1.43285134],\n",
       "       [1.        , 1.40674011],\n",
       "       [1.        , 1.51731188],\n",
       "       [1.        , 1.99767182],\n",
       "       [1.        , 1.1112137 ],\n",
       "       [1.        , 0.26274478],\n",
       "       [1.        , 1.46564154],\n",
       "       [1.        , 0.19067153],\n",
       "       [1.        , 1.64951326],\n",
       "       [1.        , 0.33349625],\n",
       "       [1.        , 1.92247847],\n",
       "       [1.        , 1.33267891],\n",
       "       [1.        , 0.7361419 ],\n",
       "       [1.        , 1.68724153],\n",
       "       [1.        , 1.71469551],\n",
       "       [1.        , 0.45925786],\n",
       "       [1.        , 1.21728507],\n",
       "       [1.        , 1.35543819]])"
      ]
     },
     "execution_count": 13,
     "metadata": {},
     "output_type": "execute_result"
    }
   ],
   "source": [
    "X_b"
   ]
  },
  {
   "cell_type": "code",
   "execution_count": 21,
   "metadata": {},
   "outputs": [
    {
     "data": {
      "text/plain": [
       "array([[0],\n",
       "       [2]])"
      ]
     },
     "execution_count": 21,
     "metadata": {},
     "output_type": "execute_result"
    }
   ],
   "source": [
    "X_new=np.array([[0],[2]])\n",
    "X_new"
   ]
  },
  {
   "cell_type": "code",
   "execution_count": 24,
   "metadata": {},
   "outputs": [
    {
     "data": {
      "text/plain": [
       "array([[1., 0.],\n",
       "       [1., 2.]])"
      ]
     },
     "execution_count": 24,
     "metadata": {},
     "output_type": "execute_result"
    }
   ],
   "source": [
    "X_new_b=np.c_[np.ones((2,1)),X_new]\n",
    "X_new_b"
   ]
  },
  {
   "cell_type": "code",
   "execution_count": 25,
   "metadata": {},
   "outputs": [
    {
     "data": {
      "text/plain": [
       "array([[ 3.82685335],\n",
       "       [10.10953897]])"
      ]
     },
     "execution_count": 25,
     "metadata": {},
     "output_type": "execute_result"
    }
   ],
   "source": [
    "ypred=X_new_b.dot(theta)\n",
    "ypred"
   ]
  },
  {
   "cell_type": "code",
   "execution_count": 28,
   "metadata": {},
   "outputs": [
    {
     "data": {
      "text/plain": [
       "[<matplotlib.lines.Line2D at 0x19f3f46ae50>]"
      ]
     },
     "execution_count": 28,
     "metadata": {},
     "output_type": "execute_result"
    },
    {
     "data": {
      "image/png": "[encoded data removed]",
      "text/plain": [
       "<Figure size 432x288 with 1 Axes>"
      ]
     },
     "metadata": {
      "needs_background": "light"
     },
     "output_type": "display_data"
    }
   ],
   "source": [
    "plt.plot(X_new,ypred,\"r-\")\n",
    "plt.plot(X,y,'o')"
   ]
  },
  {
   "cell_type": "code",
   "execution_count": 14,
   "metadata": {},
   "outputs": [
    {
     "data": {
      "text/plain": [
       "array([[ 8.63260834],\n",
       "       [ 7.13583449],\n",
       "       [ 7.14865266],\n",
       "       [ 7.12059382],\n",
       "       [ 8.19185116],\n",
       "       [ 9.68278946],\n",
       "       [ 7.79591431],\n",
       "       [ 5.44685596],\n",
       "       [ 7.45684832],\n",
       "       [ 7.39283366],\n",
       "       [ 7.97140692],\n",
       "       [ 5.85067554],\n",
       "       [ 6.97323883],\n",
       "       [ 3.25985733],\n",
       "       [ 6.53379355],\n",
       "       [ 8.05843636],\n",
       "       [ 7.7569365 ],\n",
       "       [ 8.17816539],\n",
       "       [ 7.99017767],\n",
       "       [ 9.77216299],\n",
       "       [10.57758079],\n",
       "       [ 5.22277778],\n",
       "       [ 7.82610077],\n",
       "       [ 5.07866286],\n",
       "       [ 7.15839718],\n",
       "       [ 7.4878364 ],\n",
       "       [ 6.72953297],\n",
       "       [ 6.20690896],\n",
       "       [ 5.46058328],\n",
       "       [ 6.27044443],\n",
       "       [ 4.72673211],\n",
       "       [ 9.37103143],\n",
       "       [ 9.6884271 ],\n",
       "       [ 4.88728837],\n",
       "       [ 3.78044671],\n",
       "       [ 6.15169109],\n",
       "       [ 2.96881167],\n",
       "       [ 8.55253695],\n",
       "       [ 4.52215257],\n",
       "       [ 8.37688586],\n",
       "       [ 8.96709804],\n",
       "       [ 5.80880545],\n",
       "       [ 7.28220681],\n",
       "       [ 8.43496251],\n",
       "       [ 6.31367645],\n",
       "       [ 3.81567098],\n",
       "       [ 9.5821449 ],\n",
       "       [ 4.4352367 ],\n",
       "       [ 5.15296148],\n",
       "       [10.20462096],\n",
       "       [ 5.45579947],\n",
       "       [ 3.99275044],\n",
       "       [ 6.29613688],\n",
       "       [ 9.57391447],\n",
       "       [ 8.18512327],\n",
       "       [ 5.71238529],\n",
       "       [10.80124027],\n",
       "       [ 6.80335845],\n",
       "       [ 8.74483671],\n",
       "       [ 5.09947418],\n",
       "       [ 4.59771115],\n",
       "       [ 7.94918668],\n",
       "       [10.03820316],\n",
       "       [ 4.57414712],\n",
       "       [ 4.97016904],\n",
       "       [ 8.80674709],\n",
       "       [ 4.751309  ],\n",
       "       [ 5.83763638],\n",
       "       [ 8.38418503],\n",
       "       [ 8.54793904],\n",
       "       [ 8.15693386],\n",
       "       [11.04290945],\n",
       "       [ 7.09491222],\n",
       "       [ 7.22739196],\n",
       "       [ 4.0939818 ],\n",
       "       [ 9.26392039],\n",
       "       [ 8.72434273],\n",
       "       [11.89965372],\n",
       "       [ 8.00236574],\n",
       "       [ 7.40049183],\n",
       "       [ 6.03295403],\n",
       "       [ 4.68505508],\n",
       "       [ 8.6052561 ],\n",
       "       [ 8.48246436],\n",
       "       [ 9.13885812],\n",
       "       [11.52577297],\n",
       "       [ 7.72370843],\n",
       "       [ 4.51230084],\n",
       "       [ 8.00670953],\n",
       "       [ 4.55841187],\n",
       "       [ 8.88761984],\n",
       "       [ 3.67194985],\n",
       "       [ 8.65119718],\n",
       "       [ 9.38398264],\n",
       "       [ 7.55348676],\n",
       "       [ 9.32666579],\n",
       "       [10.15664284],\n",
       "       [ 4.23486441],\n",
       "       [10.20611374],\n",
       "       [ 8.46462987]])"
      ]
     },
     "execution_count": 14,
     "metadata": {},
     "output_type": "execute_result"
    }
   ],
   "source": [
    "y"
   ]
  },
  {
   "cell_type": "code",
   "execution_count": null,
   "metadata": {},
   "outputs": [],
   "source": []
  }
 ],
 "metadata": {
  "kernelspec": {
   "display_name": "Python 3",
   "language": "python",
   "name": "python3"
  },
  "language_info": {
   "codemirror_mode": {
    "name": "ipython",
    "version": 3
   },
   "file_extension": ".py",
   "mimetype": "text/x-python",
   "name": "python",
   "nbconvert_exporter": "python",
   "pygments_lexer": "ipython3",
   "version": "3.8.5"
  }
 },
 "nbformat": 4,
 "nbformat_minor": 4
}
