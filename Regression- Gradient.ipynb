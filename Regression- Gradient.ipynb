{
 "cells": [
  {
   "cell_type": "code",
   "execution_count": 2,
   "metadata": {},
   "outputs": [],
   "source": [
    "import numpy as np\n"
   ]
  },
  {
   "cell_type": "code",
   "execution_count": 3,
   "metadata": {},
   "outputs": [],
   "source": [
    "X=2* np.random.rand(100,1)"
   ]
  },
  {
   "cell_type": "code",
   "execution_count": 4,
   "metadata": {},
   "outputs": [
    {
     "data": {
      "text/plain": [
       "array([[0.92265638],\n",
       "       [1.74846587],\n",
       "       [1.0583007 ],\n",
       "       [1.9779286 ],\n",
       "       [1.00719614],\n",
       "       [0.31262202],\n",
       "       [0.22258217],\n",
       "       [0.63296003],\n",
       "       [0.43416891],\n",
       "       [1.79469068],\n",
       "       [0.4611224 ],\n",
       "       [0.80918482],\n",
       "       [0.5369814 ],\n",
       "       [0.48863592],\n",
       "       [0.19788067],\n",
       "       [0.80220452],\n",
       "       [0.03286232],\n",
       "       [0.7089979 ],\n",
       "       [0.74605151],\n",
       "       [1.23075075],\n",
       "       [0.14643003],\n",
       "       [1.21788423],\n",
       "       [1.58743403],\n",
       "       [1.79881999],\n",
       "       [1.74143755],\n",
       "       [0.78914624],\n",
       "       [1.76005462],\n",
       "       [1.8171139 ],\n",
       "       [0.64546215],\n",
       "       [1.74664022],\n",
       "       [0.4384192 ],\n",
       "       [1.86818654],\n",
       "       [0.97249884],\n",
       "       [0.64783062],\n",
       "       [0.69808459],\n",
       "       [0.28030535],\n",
       "       [1.42763793],\n",
       "       [1.4331255 ],\n",
       "       [0.34369786],\n",
       "       [1.01773468],\n",
       "       [1.12945186],\n",
       "       [0.52152278],\n",
       "       [1.8763721 ],\n",
       "       [1.04480515],\n",
       "       [1.03975359],\n",
       "       [0.49169772],\n",
       "       [0.97009018],\n",
       "       [0.36470101],\n",
       "       [0.69752208],\n",
       "       [0.95313847],\n",
       "       [1.97049603],\n",
       "       [0.76441302],\n",
       "       [0.94000871],\n",
       "       [1.97730836],\n",
       "       [1.75569079],\n",
       "       [1.93914154],\n",
       "       [1.67260617],\n",
       "       [0.79201414],\n",
       "       [0.57378094],\n",
       "       [1.89264834],\n",
       "       [1.78460649],\n",
       "       [1.49681804],\n",
       "       [0.85429877],\n",
       "       [0.16245572],\n",
       "       [0.74423947],\n",
       "       [0.22939636],\n",
       "       [0.43428218],\n",
       "       [1.89888076],\n",
       "       [1.62789641],\n",
       "       [0.65367634],\n",
       "       [1.04703073],\n",
       "       [0.93709266],\n",
       "       [1.87594176],\n",
       "       [1.06075796],\n",
       "       [1.73887981],\n",
       "       [0.9165186 ],\n",
       "       [1.50945702],\n",
       "       [1.13015814],\n",
       "       [0.25181375],\n",
       "       [0.48370842],\n",
       "       [1.10281215],\n",
       "       [1.57281416],\n",
       "       [0.93342291],\n",
       "       [0.40764344],\n",
       "       [0.13115414],\n",
       "       [0.52925742],\n",
       "       [1.27109755],\n",
       "       [0.21587971],\n",
       "       [1.01519315],\n",
       "       [0.64985323],\n",
       "       [0.43138085],\n",
       "       [0.96383628],\n",
       "       [0.52882276],\n",
       "       [0.7664236 ],\n",
       "       [1.35137828],\n",
       "       [0.44417835],\n",
       "       [1.14318497],\n",
       "       [1.08252023],\n",
       "       [1.8734521 ],\n",
       "       [1.01448225]])"
      ]
     },
     "execution_count": 4,
     "metadata": {},
     "output_type": "execute_result"
    }
   ],
   "source": [
    "X"
   ]
  },
  {
   "cell_type": "code",
   "execution_count": 5,
   "metadata": {},
   "outputs": [],
   "source": [
    "y=4+3*X+np.random.randn(100,1)"
   ]
  },
  {
   "cell_type": "code",
   "execution_count": 6,
   "metadata": {},
   "outputs": [
    {
     "data": {
      "text/plain": [
       "[<matplotlib.lines.Line2D at 0x1d9a1991df0>]"
      ]
     },
     "execution_count": 6,
     "metadata": {},
     "output_type": "execute_result"
    },
    {
     "data": {
      "image/png": "[encoded data removed]",
      "text/plain": [
       "<Figure size 432x288 with 1 Axes>"
      ]
     },
     "metadata": {
      "needs_background": "light"
     },
     "output_type": "display_data"
    }
   ],
   "source": [
    "from matplotlib import pyplot as plt\n",
    "plt.plot(X,y,'o')\n"
   ]
  },
  {
   "cell_type": "code",
   "execution_count": 7,
   "metadata": {},
   "outputs": [
    {
     "data": {
      "text/plain": [
       "[<matplotlib.lines.Line2D at 0x1d9a1cd3c10>]"
      ]
     },
     "execution_count": 7,
     "metadata": {},
     "output_type": "execute_result"
    },
    {
     "data": {
      "image/png": "[encoded data removed]",
      "text/plain": [
       "<Figure size 432x288 with 1 Axes>"
      ]
     },
     "metadata": {
      "needs_background": "light"
     },
     "output_type": "display_data"
    }
   ],
   "source": [
    "from matplotlib import pyplot as plt1\n",
    "plt1.plot(X,'o')"
   ]
  },
  {
   "cell_type": "code",
   "execution_count": 8,
   "metadata": {},
   "outputs": [],
   "source": [
    "X_b=np.c_[np.ones((100,1)),X]\n"
   ]
  },
  {
   "cell_type": "code",
   "execution_count": 36,
   "metadata": {},
   "outputs": [],
   "source": [
    "eta=0.1\n",
    "n_iterations=1000\n",
    "m=100\n",
    "\n",
    "theta=np.random.randn(2,1)\n",
    "\n",
    "for iteration in range(n_iterations):\n",
    "    gradients=2/m*X_b.T.dot(X_b.dot(theta)-y)\n",
    "    theta=theta-eta*gradients\n",
    "    \n"
   ]
  },
  {
   "cell_type": "code",
   "execution_count": 31,
   "metadata": {},
   "outputs": [
    {
     "data": {
      "text/plain": [
       "array([[1.33151488],\n",
       "       [1.70780803]])"
      ]
     },
     "execution_count": 31,
     "metadata": {},
     "output_type": "execute_result"
    }
   ],
   "source": [
    "theta"
   ]
  },
  {
   "cell_type": "code",
   "execution_count": 32,
   "metadata": {},
   "outputs": [
    {
     "data": {
      "text/plain": [
       "array([[0],\n",
       "       [2]])"
      ]
     },
     "execution_count": 32,
     "metadata": {},
     "output_type": "execute_result"
    }
   ],
   "source": [
    "\n",
    "X_new=np.array([[0],[2]])\n",
    "X_new"
   ]
  },
  {
   "cell_type": "code",
   "execution_count": 33,
   "metadata": {},
   "outputs": [
    {
     "data": {
      "text/plain": [
       "array([[1., 0.],\n",
       "       [1., 2.]])"
      ]
     },
     "execution_count": 33,
     "metadata": {},
     "output_type": "execute_result"
    }
   ],
   "source": [
    "X_new_b=np.c_[np.ones((2,1)),X_new]\n",
    "X_new_b"
   ]
  },
  {
   "cell_type": "code",
   "execution_count": 34,
   "metadata": {},
   "outputs": [
    {
     "data": {
      "text/plain": [
       "array([[1.33151488],\n",
       "       [4.74713094]])"
      ]
     },
     "execution_count": 34,
     "metadata": {},
     "output_type": "execute_result"
    }
   ],
   "source": [
    "ypred=X_new_b.dot(theta)\n",
    "ypred"
   ]
  },
  {
   "cell_type": "code",
   "execution_count": 35,
   "metadata": {},
   "outputs": [
    {
     "data": {
      "text/plain": [
       "[<matplotlib.lines.Line2D at 0x1d9a1e1a580>]"
      ]
     },
     "execution_count": 35,
     "metadata": {},
     "output_type": "execute_result"
    },
    {
     "data": {
      "image/png": "[encoded data removed]",
      "text/plain": [
       "<Figure size 432x288 with 1 Axes>"
      ]
     },
     "metadata": {
      "needs_background": "light"
     },
     "output_type": "display_data"
    }
   ],
   "source": [
    "plt.plot(X_new,ypred,\"r-\")\n",
    "plt.plot(X,y,'o')"
   ]
  },
  {
   "cell_type": "code",
   "execution_count": null,
   "metadata": {},
   "outputs": [],
   "source": []
  },
  {
   "cell_type": "code",
   "execution_count": null,
   "metadata": {},
   "outputs": [],
   "source": []
  }
 ],
 "metadata": {
  "kernelspec": {
   "display_name": "Python 3",
   "language": "python",
   "name": "python3"
  },
  "language_info": {
   "codemirror_mode": {
    "name": "ipython",
    "version": 3
   },
   "file_extension": ".py",
   "mimetype": "text/x-python",
   "name": "python",
   "nbconvert_exporter": "python",
   "pygments_lexer": "ipython3",
   "version": "3.8.5"
  }
 },
 "nbformat": 4,
 "nbformat_minor": 4
}
